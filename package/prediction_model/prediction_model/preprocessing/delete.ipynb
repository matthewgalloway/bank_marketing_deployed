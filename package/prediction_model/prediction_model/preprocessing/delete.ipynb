{
 "cells": [
  {
   "cell_type": "code",
   "execution_count": 10,
   "metadata": {
    "collapsed": true,
    "pycharm": {
     "is_executing": false
    }
   },
   "outputs": [],
   "source": [
    "\n",
    "import pandas as pd\n",
    "from sklearn.model_selection import train_test_split"
   ]
  },
  {
   "cell_type": "code",
   "execution_count": 33,
   "outputs": [],
   "source": [
    "filename = '/Users/matthewgalloway/Repos/bank_marketing_deployed/bank_marketing_deployed/package/prediction_model/prediction_model/datasets/train.csv'\n",
    "data = pd.read_csv(filename,sep=\",\")\n",
    "\n",
    "train, test =  train_test_split(data, test_size = 0.2)\n",
    "\n",
    "# train.to_csv('/Users/matthewgalloway/Repos/bank_marketing_deployed/bank_marketing_deployed/datasets/train.csv')\n",
    "# test.to_csv('/Users/matthewgalloway/Repos/bank_marketing_deployed/bank_marketing_deployed/datasets/test.csv')"
   ],
   "metadata": {
    "collapsed": false,
    "pycharm": {
     "name": "#%%\n",
     "is_executing": false
    }
   }
  },
  {
   "cell_type": "code",
   "execution_count": 18,
   "outputs": [
    {
     "data": {
      "text/plain": "       Unnamed: 0  age  balance  day  duration  campaign  pdays  previous  \\\n19177       37323   47      623   13       102         6     -1         0   \n15148       35883   52      337    8       247         1    261         4   \n7429        12678   33     4385    4        92         1     -1         0   \n12370       26916   52     4173   21       159         2     -1         0   \n20994       36750   39        0   12       561         4    369         3   \n...           ...  ...      ...  ...       ...       ...    ...       ...   \n22331       27342   33     4402   21       380         2     -1         0   \n4361         4599   30       18   20       121        11     -1         0   \n28137       19910   31       88    8       189         2     -1         0   \n23835        5831   32     -376   26       188         1     -1         0   \n4889        41427   60     5267    4       520         1     -1         0   \n\n         y  job_admin.  ...  month_jun  month_mar  month_may  month_nov  \\\n19177   no           0  ...          0          0          1          0   \n15148   no           0  ...          0          0          1          0   \n7429    no           0  ...          0          0          0          0   \n12370   no           0  ...          0          0          0          1   \n20994   no           0  ...          0          0          1          0   \n...    ...         ...  ...        ...        ...        ...        ...   \n22331   no           0  ...          0          0          0          1   \n4361    no           0  ...          0          0          1          0   \n28137   no           1  ...          0          0          0          0   \n23835   no           0  ...          0          0          1          0   \n4889   yes           0  ...          0          0          0          0   \n\n       month_oct  month_sep  poutcome_failure  poutcome_other  \\\n19177          0          0                 0               0   \n15148          0          0                 1               0   \n7429           0          0                 0               0   \n12370          0          0                 0               0   \n20994          0          0                 1               0   \n...          ...        ...               ...             ...   \n22331          0          0                 0               0   \n4361           0          0                 0               0   \n28137          0          0                 0               0   \n23835          0          0                 0               0   \n4889           0          1                 0               0   \n\n       poutcome_success  poutcome_unknown  \n19177                 0                 1  \n15148                 0                 0  \n7429                  0                 1  \n12370                 0                 1  \n20994                 0                 0  \n...                 ...               ...  \n22331                 0                 1  \n4361                  0                 1  \n28137                 0                 1  \n23835                 0                 1  \n4889                  0                 1  \n\n[28934 rows x 53 columns]",
      "text/html": "<div>\n<style scoped>\n    .dataframe tbody tr th:only-of-type {\n        vertical-align: middle;\n    }\n\n    .dataframe tbody tr th {\n        vertical-align: top;\n    }\n\n    .dataframe thead th {\n        text-align: right;\n    }\n</style>\n<table border=\"1\" class=\"dataframe\">\n  <thead>\n    <tr style=\"text-align: right;\">\n      <th></th>\n      <th>Unnamed: 0</th>\n      <th>age</th>\n      <th>balance</th>\n      <th>day</th>\n      <th>duration</th>\n      <th>campaign</th>\n      <th>pdays</th>\n      <th>previous</th>\n      <th>y</th>\n      <th>job_admin.</th>\n      <th>...</th>\n      <th>month_jun</th>\n      <th>month_mar</th>\n      <th>month_may</th>\n      <th>month_nov</th>\n      <th>month_oct</th>\n      <th>month_sep</th>\n      <th>poutcome_failure</th>\n      <th>poutcome_other</th>\n      <th>poutcome_success</th>\n      <th>poutcome_unknown</th>\n    </tr>\n  </thead>\n  <tbody>\n    <tr>\n      <th>19177</th>\n      <td>37323</td>\n      <td>47</td>\n      <td>623</td>\n      <td>13</td>\n      <td>102</td>\n      <td>6</td>\n      <td>-1</td>\n      <td>0</td>\n      <td>no</td>\n      <td>0</td>\n      <td>...</td>\n      <td>0</td>\n      <td>0</td>\n      <td>1</td>\n      <td>0</td>\n      <td>0</td>\n      <td>0</td>\n      <td>0</td>\n      <td>0</td>\n      <td>0</td>\n      <td>1</td>\n    </tr>\n    <tr>\n      <th>15148</th>\n      <td>35883</td>\n      <td>52</td>\n      <td>337</td>\n      <td>8</td>\n      <td>247</td>\n      <td>1</td>\n      <td>261</td>\n      <td>4</td>\n      <td>no</td>\n      <td>0</td>\n      <td>...</td>\n      <td>0</td>\n      <td>0</td>\n      <td>1</td>\n      <td>0</td>\n      <td>0</td>\n      <td>0</td>\n      <td>1</td>\n      <td>0</td>\n      <td>0</td>\n      <td>0</td>\n    </tr>\n    <tr>\n      <th>7429</th>\n      <td>12678</td>\n      <td>33</td>\n      <td>4385</td>\n      <td>4</td>\n      <td>92</td>\n      <td>1</td>\n      <td>-1</td>\n      <td>0</td>\n      <td>no</td>\n      <td>0</td>\n      <td>...</td>\n      <td>0</td>\n      <td>0</td>\n      <td>0</td>\n      <td>0</td>\n      <td>0</td>\n      <td>0</td>\n      <td>0</td>\n      <td>0</td>\n      <td>0</td>\n      <td>1</td>\n    </tr>\n    <tr>\n      <th>12370</th>\n      <td>26916</td>\n      <td>52</td>\n      <td>4173</td>\n      <td>21</td>\n      <td>159</td>\n      <td>2</td>\n      <td>-1</td>\n      <td>0</td>\n      <td>no</td>\n      <td>0</td>\n      <td>...</td>\n      <td>0</td>\n      <td>0</td>\n      <td>0</td>\n      <td>1</td>\n      <td>0</td>\n      <td>0</td>\n      <td>0</td>\n      <td>0</td>\n      <td>0</td>\n      <td>1</td>\n    </tr>\n    <tr>\n      <th>20994</th>\n      <td>36750</td>\n      <td>39</td>\n      <td>0</td>\n      <td>12</td>\n      <td>561</td>\n      <td>4</td>\n      <td>369</td>\n      <td>3</td>\n      <td>no</td>\n      <td>0</td>\n      <td>...</td>\n      <td>0</td>\n      <td>0</td>\n      <td>1</td>\n      <td>0</td>\n      <td>0</td>\n      <td>0</td>\n      <td>1</td>\n      <td>0</td>\n      <td>0</td>\n      <td>0</td>\n    </tr>\n    <tr>\n      <th>...</th>\n      <td>...</td>\n      <td>...</td>\n      <td>...</td>\n      <td>...</td>\n      <td>...</td>\n      <td>...</td>\n      <td>...</td>\n      <td>...</td>\n      <td>...</td>\n      <td>...</td>\n      <td>...</td>\n      <td>...</td>\n      <td>...</td>\n      <td>...</td>\n      <td>...</td>\n      <td>...</td>\n      <td>...</td>\n      <td>...</td>\n      <td>...</td>\n      <td>...</td>\n      <td>...</td>\n    </tr>\n    <tr>\n      <th>22331</th>\n      <td>27342</td>\n      <td>33</td>\n      <td>4402</td>\n      <td>21</td>\n      <td>380</td>\n      <td>2</td>\n      <td>-1</td>\n      <td>0</td>\n      <td>no</td>\n      <td>0</td>\n      <td>...</td>\n      <td>0</td>\n      <td>0</td>\n      <td>0</td>\n      <td>1</td>\n      <td>0</td>\n      <td>0</td>\n      <td>0</td>\n      <td>0</td>\n      <td>0</td>\n      <td>1</td>\n    </tr>\n    <tr>\n      <th>4361</th>\n      <td>4599</td>\n      <td>30</td>\n      <td>18</td>\n      <td>20</td>\n      <td>121</td>\n      <td>11</td>\n      <td>-1</td>\n      <td>0</td>\n      <td>no</td>\n      <td>0</td>\n      <td>...</td>\n      <td>0</td>\n      <td>0</td>\n      <td>1</td>\n      <td>0</td>\n      <td>0</td>\n      <td>0</td>\n      <td>0</td>\n      <td>0</td>\n      <td>0</td>\n      <td>1</td>\n    </tr>\n    <tr>\n      <th>28137</th>\n      <td>19910</td>\n      <td>31</td>\n      <td>88</td>\n      <td>8</td>\n      <td>189</td>\n      <td>2</td>\n      <td>-1</td>\n      <td>0</td>\n      <td>no</td>\n      <td>1</td>\n      <td>...</td>\n      <td>0</td>\n      <td>0</td>\n      <td>0</td>\n      <td>0</td>\n      <td>0</td>\n      <td>0</td>\n      <td>0</td>\n      <td>0</td>\n      <td>0</td>\n      <td>1</td>\n    </tr>\n    <tr>\n      <th>23835</th>\n      <td>5831</td>\n      <td>32</td>\n      <td>-376</td>\n      <td>26</td>\n      <td>188</td>\n      <td>1</td>\n      <td>-1</td>\n      <td>0</td>\n      <td>no</td>\n      <td>0</td>\n      <td>...</td>\n      <td>0</td>\n      <td>0</td>\n      <td>1</td>\n      <td>0</td>\n      <td>0</td>\n      <td>0</td>\n      <td>0</td>\n      <td>0</td>\n      <td>0</td>\n      <td>1</td>\n    </tr>\n    <tr>\n      <th>4889</th>\n      <td>41427</td>\n      <td>60</td>\n      <td>5267</td>\n      <td>4</td>\n      <td>520</td>\n      <td>1</td>\n      <td>-1</td>\n      <td>0</td>\n      <td>yes</td>\n      <td>0</td>\n      <td>...</td>\n      <td>0</td>\n      <td>0</td>\n      <td>0</td>\n      <td>0</td>\n      <td>0</td>\n      <td>1</td>\n      <td>0</td>\n      <td>0</td>\n      <td>0</td>\n      <td>1</td>\n    </tr>\n  </tbody>\n</table>\n<p>28934 rows × 53 columns</p>\n</div>"
     },
     "metadata": {},
     "output_type": "execute_result",
     "execution_count": 18
    }
   ],
   "source": [
    "# categorical variables\n",
    "CATEGORICAL_VARS = [\n",
    "\t\"job\",\n",
    "\t\"marital\",\n",
    "\t\"education\",\n",
    "\t\"default\",\n",
    "\t\"housing\",\n",
    "\t\"loan\",\n",
    "\t\"contact\",\n",
    "\t\"month\",\n",
    "\t\"poutcome\",\n",
    "]\n",
    "pd.get_dummies(train, columns=CATEGORICAL_VARS)"
   ],
   "metadata": {
    "collapsed": false,
    "pycharm": {
     "name": "#%%\n",
     "is_executing": false
    }
   }
  },
  {
   "cell_type": "code",
   "execution_count": 23,
   "outputs": [
    {
     "data": {
      "text/plain": "19177    0\n15148    0\n7429     0\n12370    0\n20994    0\n        ..\n22331    0\n4361     0\n28137    0\n23835    0\n4889     1\nName: y, Length: 28934, dtype: int64"
     },
     "metadata": {},
     "output_type": "execute_result",
     "execution_count": 23
    }
   ],
   "source": [
    "\n",
    "train['y'].eq('yes').mul(1)"
   ],
   "metadata": {
    "collapsed": false,
    "pycharm": {
     "name": "#%%\n",
     "is_executing": false
    }
   }
  },
  {
   "cell_type": "code",
   "execution_count": 34,
   "outputs": [
    {
     "data": {
      "text/plain": "16"
     },
     "metadata": {},
     "output_type": "execute_result",
     "execution_count": 34
    }
   ],
   "source": [
    "FEATURES = ['age',\n",
    "\t\t\t'job',\n",
    "\t\t\t'marital',\n",
    "\t\t\t'education',\n",
    "\t\t\t'default',\n",
    "\t\t\t'balance',\n",
    "\t\t\t'housing',\n",
    "\t\t\t'loan',\n",
    "\t\t\t'contact',\n",
    "\t\t\t'day',\n",
    "\t\t\t'month',\n",
    "\t\t\t'duration',\n",
    "\t\t\t'campaign',\n",
    "\t\t\t'pdays',\n",
    "\t\t\t'previous',\n",
    "\t\t\t'poutcome']\n",
    "len(pd.dummydata[FEATURES].columns)"
   ],
   "metadata": {
    "collapsed": false,
    "pycharm": {
     "name": "#%%\n",
     "is_executing": false
    }
   }
  },
  {
   "cell_type": "code",
   "execution_count": null,
   "outputs": [],
   "source": [
    "\n"
   ],
   "metadata": {
    "collapsed": false,
    "pycharm": {
     "name": "#%%\n"
    }
   }
  }
 ],
 "metadata": {
  "kernelspec": {
   "display_name": "Python 3",
   "language": "python",
   "name": "python3"
  },
  "language_info": {
   "codemirror_mode": {
    "name": "ipython",
    "version": 2
   },
   "file_extension": ".py",
   "mimetype": "text/x-python",
   "name": "python",
   "nbconvert_exporter": "python",
   "pygments_lexer": "ipython2",
   "version": "2.7.6"
  },
  "pycharm": {
   "stem_cell": {
    "cell_type": "raw",
    "source": [],
    "metadata": {
     "collapsed": false
    }
   }
  }
 },
 "nbformat": 4,
 "nbformat_minor": 0
}