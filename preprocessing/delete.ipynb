{
 "cells": [
  {
   "cell_type": "code",
   "execution_count": 5,
   "metadata": {
    "collapsed": true,
    "pycharm": {
     "is_executing": false
    }
   },
   "outputs": [],
   "source": [
    "import pandas as pd\n",
    "from sklearn.model_selection import train_test_split"
   ]
  },
  {
   "cell_type": "code",
   "execution_count": 11,
   "outputs": [],
   "source": [
    "data = pd.read_csv('/Users/matthewgalloway/Repos/bank_marketing_deployed/bank_marketing_deployed/datasets/bank-full.csv',sep=\";\")\n",
    "\n",
    "train, test =  train_test_split(data, test_size = 0.2)\n",
    "\n",
    "train.to_csv('/Users/matthewgalloway/Repos/bank_marketing_deployed/bank_marketing_deployed/datasets/train.csv')\n",
    "test.to_csv('/Users/matthewgalloway/Repos/bank_marketing_deployed/bank_marketing_deployed/datasets/test.csv')"
   ],
   "metadata": {
    "collapsed": false,
    "pycharm": {
     "name": "#%%\n",
     "is_executing": false
    }
   }
  },
  {
   "cell_type": "code",
   "execution_count": 13,
   "outputs": [
    {
     "name": "stdout",
     "text": [
      "<class 'pandas.core.frame.DataFrame'>\n",
      "Int64Index: 36168 entries, 7370 to 13183\n",
      "Data columns (total 17 columns):\n",
      " #   Column     Non-Null Count  Dtype \n",
      "---  ------     --------------  ----- \n",
      " 0   age        36168 non-null  int64 \n",
      " 1   job        36168 non-null  object\n",
      " 2   marital    36168 non-null  object\n",
      " 3   education  36168 non-null  object\n",
      " 4   default    36168 non-null  object\n",
      " 5   balance    36168 non-null  int64 \n",
      " 6   housing    36168 non-null  object\n",
      " 7   loan       36168 non-null  object\n",
      " 8   contact    36168 non-null  object\n",
      " 9   day        36168 non-null  int64 \n",
      " 10  month      36168 non-null  object\n",
      " 11  duration   36168 non-null  int64 \n",
      " 12  campaign   36168 non-null  int64 \n",
      " 13  pdays      36168 non-null  int64 \n",
      " 14  previous   36168 non-null  int64 \n",
      " 15  poutcome   36168 non-null  object\n",
      " 16  y          36168 non-null  object\n",
      "dtypes: int64(7), object(10)\n",
      "memory usage: 5.0+ MB\n"
     ],
     "output_type": "stream"
    }
   ],
   "source": [
    "train.info()"
   ],
   "metadata": {
    "collapsed": false,
    "pycharm": {
     "name": "#%%\n",
     "is_executing": false
    }
   }
  },
  {
   "cell_type": "code",
   "execution_count": 15,
   "outputs": [
    {
     "data": {
      "text/plain": "age          0\njob          0\nmarital      0\neducation    0\ndefault      0\nbalance      0\nhousing      0\nloan         0\ncontact      0\nday          0\nmonth        0\nduration     0\ncampaign     0\npdays        0\nprevious     0\npoutcome     0\ny            0\ndtype: int64"
     },
     "metadata": {},
     "output_type": "execute_result",
     "execution_count": 15
    }
   ],
   "source": [
    "train.isna().sum()"
   ],
   "metadata": {
    "collapsed": false,
    "pycharm": {
     "name": "#%%\n",
     "is_executing": false
    }
   }
  },
  {
   "cell_type": "code",
   "execution_count": null,
   "outputs": [],
   "source": [
    "\n"
   ],
   "metadata": {
    "collapsed": false,
    "pycharm": {
     "name": "#%%\n"
    }
   }
  }
 ],
 "metadata": {
  "kernelspec": {
   "display_name": "Python 3",
   "language": "python",
   "name": "python3"
  },
  "language_info": {
   "codemirror_mode": {
    "name": "ipython",
    "version": 2
   },
   "file_extension": ".py",
   "mimetype": "text/x-python",
   "name": "python",
   "nbconvert_exporter": "python",
   "pygments_lexer": "ipython2",
   "version": "2.7.6"
  },
  "pycharm": {
   "stem_cell": {
    "cell_type": "raw",
    "source": [],
    "metadata": {
     "collapsed": false
    }
   }
  }
 },
 "nbformat": 4,
 "nbformat_minor": 0
}