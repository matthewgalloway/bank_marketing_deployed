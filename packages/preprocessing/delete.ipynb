{
 "cells": [
  {
   "cell_type": "code",
   "execution_count": 18,
   "metadata": {
    "collapsed": true,
    "pycharm": {
     "is_executing": false
    }
   },
   "outputs": [],
   "source": [
    "from config import config\n",
    "import pandas as pd\n",
    "from sklearn.model_selection import train_test_split"
   ]
  },
  {
   "cell_type": "code",
   "execution_count": 11,
   "outputs": [],
   "source": [
    "data = pd.read_csv('/Users/matthewgalloway/Repos/bank_marketing_deployed/bank_marketing_deployed/datasets/bank-full.csv',sep=\";\")\n",
    "\n",
    "train, test =  train_test_split(data, test_size = 0.2)\n",
    "\n",
    "train.to_csv('/Users/matthewgalloway/Repos/bank_marketing_deployed/bank_marketing_deployed/datasets/train.csv')\n",
    "test.to_csv('/Users/matthewgalloway/Repos/bank_marketing_deployed/bank_marketing_deployed/datasets/test.csv')"
   ],
   "metadata": {
    "collapsed": false,
    "pycharm": {
     "name": "#%%\n",
     "is_executing": false
    }
   }
  },
  {
   "cell_type": "code",
   "execution_count": 13,
   "outputs": [
    {
     "name": "stdout",
     "text": [
      "<class 'pandas.core.frame.DataFrame'>\n",
      "Int64Index: 36168 entries, 7370 to 13183\n",
      "Data columns (total 17 columns):\n",
      " #   Column     Non-Null Count  Dtype \n",
      "---  ------     --------------  ----- \n",
      " 0   age        36168 non-null  int64 \n",
      " 1   job        36168 non-null  object\n",
      " 2   marital    36168 non-null  object\n",
      " 3   education  36168 non-null  object\n",
      " 4   default    36168 non-null  object\n",
      " 5   balance    36168 non-null  int64 \n",
      " 6   housing    36168 non-null  object\n",
      " 7   loan       36168 non-null  object\n",
      " 8   contact    36168 non-null  object\n",
      " 9   day        36168 non-null  int64 \n",
      " 10  month      36168 non-null  object\n",
      " 11  duration   36168 non-null  int64 \n",
      " 12  campaign   36168 non-null  int64 \n",
      " 13  pdays      36168 non-null  int64 \n",
      " 14  previous   36168 non-null  int64 \n",
      " 15  poutcome   36168 non-null  object\n",
      " 16  y          36168 non-null  object\n",
      "dtypes: int64(7), object(10)\n",
      "memory usage: 5.0+ MB\n"
     ],
     "output_type": "stream"
    }
   ],
   "source": [
    "train.info()"
   ],
   "metadata": {
    "collapsed": false,
    "pycharm": {
     "name": "#%%\n",
     "is_executing": false
    }
   }
  },
  {
   "cell_type": "code",
   "execution_count": 15,
   "outputs": [
    {
     "data": {
      "text/plain": "age          0\njob          0\nmarital      0\neducation    0\ndefault      0\nbalance      0\nhousing      0\nloan         0\ncontact      0\nday          0\nmonth        0\nduration     0\ncampaign     0\npdays        0\nprevious     0\npoutcome     0\ny            0\ndtype: int64"
     },
     "metadata": {},
     "output_type": "execute_result",
     "execution_count": 15
    }
   ],
   "source": [
    "train.isna().sum()"
   ],
   "metadata": {
    "collapsed": false,
    "pycharm": {
     "name": "#%%\n",
     "is_executing": false
    }
   }
  },
  {
   "cell_type": "code",
   "execution_count": 19,
   "outputs": [
    {
     "name": "stderr",
     "text": [
      "<ipython-input-19-013721dcb5b4>:2: SettingWithCopyWarning: \n",
      "A value is trying to be set on a copy of a slice from a DataFrame.\n",
      "Try using .loc[row_indexer,col_indexer] = value instead\n",
      "\n",
      "See the caveats in the documentation: https://pandas.pydata.org/pandas-docs/stable/user_guide/indexing.html#returning-a-view-versus-a-copy\n",
      "  train[col] = (train[col] - min(train[col]))/max(train[col])\n"
     ],
     "output_type": "stream"
    }
   ],
   "source": [
    "for col in config.NUMERICALS__VARS:\n",
    "    train[col] = (train[col] - min(train[col]))/max(train[col])\n",
    "\n"
   ],
   "metadata": {
    "collapsed": false,
    "pycharm": {
     "name": "#%%\n",
     "is_executing": false
    }
   }
  },
  {
   "cell_type": "code",
   "execution_count": 20,
   "outputs": [
    {
     "data": {
      "text/plain": "            age          job  marital  education default   balance housing  \\\n7370   0.210526  blue-collar  married    primary      no  0.083396     yes   \n19853  0.210526   management  married   tertiary      no  0.081732      no   \n11664  0.357895  blue-collar  married  secondary      no  0.133491     yes   \n20117  0.252632   management  married   tertiary      no  0.085247      no   \n8746   0.200000     services  married  secondary      no  0.086157     yes   \n\n      loan   contact       day month  duration  campaign  pdays  previous  \\\n7370    no   unknown  0.903226   may  0.021757  0.015873    0.0       0.0   \n19853   no  cellular  0.225806   aug  0.046767  0.015873    0.0       0.0   \n11664   no   unknown  0.612903   jun  0.035990  0.031746    0.0       0.0   \n20117   no  cellular  0.322581   aug  0.135624  0.015873    0.0       0.0   \n8746    no   unknown  0.096774   jun  0.025417  0.063492    0.0       0.0   \n\n      poutcome   y  \n7370   unknown  no  \n19853  unknown  no  \n11664  unknown  no  \n20117  unknown  no  \n8746   unknown  no  ",
      "text/html": "<div>\n<style scoped>\n    .dataframe tbody tr th:only-of-type {\n        vertical-align: middle;\n    }\n\n    .dataframe tbody tr th {\n        vertical-align: top;\n    }\n\n    .dataframe thead th {\n        text-align: right;\n    }\n</style>\n<table border=\"1\" class=\"dataframe\">\n  <thead>\n    <tr style=\"text-align: right;\">\n      <th></th>\n      <th>age</th>\n      <th>job</th>\n      <th>marital</th>\n      <th>education</th>\n      <th>default</th>\n      <th>balance</th>\n      <th>housing</th>\n      <th>loan</th>\n      <th>contact</th>\n      <th>day</th>\n      <th>month</th>\n      <th>duration</th>\n      <th>campaign</th>\n      <th>pdays</th>\n      <th>previous</th>\n      <th>poutcome</th>\n      <th>y</th>\n    </tr>\n  </thead>\n  <tbody>\n    <tr>\n      <th>7370</th>\n      <td>0.210526</td>\n      <td>blue-collar</td>\n      <td>married</td>\n      <td>primary</td>\n      <td>no</td>\n      <td>0.083396</td>\n      <td>yes</td>\n      <td>no</td>\n      <td>unknown</td>\n      <td>0.903226</td>\n      <td>may</td>\n      <td>0.021757</td>\n      <td>0.015873</td>\n      <td>0.0</td>\n      <td>0.0</td>\n      <td>unknown</td>\n      <td>no</td>\n    </tr>\n    <tr>\n      <th>19853</th>\n      <td>0.210526</td>\n      <td>management</td>\n      <td>married</td>\n      <td>tertiary</td>\n      <td>no</td>\n      <td>0.081732</td>\n      <td>no</td>\n      <td>no</td>\n      <td>cellular</td>\n      <td>0.225806</td>\n      <td>aug</td>\n      <td>0.046767</td>\n      <td>0.015873</td>\n      <td>0.0</td>\n      <td>0.0</td>\n      <td>unknown</td>\n      <td>no</td>\n    </tr>\n    <tr>\n      <th>11664</th>\n      <td>0.357895</td>\n      <td>blue-collar</td>\n      <td>married</td>\n      <td>secondary</td>\n      <td>no</td>\n      <td>0.133491</td>\n      <td>yes</td>\n      <td>no</td>\n      <td>unknown</td>\n      <td>0.612903</td>\n      <td>jun</td>\n      <td>0.035990</td>\n      <td>0.031746</td>\n      <td>0.0</td>\n      <td>0.0</td>\n      <td>unknown</td>\n      <td>no</td>\n    </tr>\n    <tr>\n      <th>20117</th>\n      <td>0.252632</td>\n      <td>management</td>\n      <td>married</td>\n      <td>tertiary</td>\n      <td>no</td>\n      <td>0.085247</td>\n      <td>no</td>\n      <td>no</td>\n      <td>cellular</td>\n      <td>0.322581</td>\n      <td>aug</td>\n      <td>0.135624</td>\n      <td>0.015873</td>\n      <td>0.0</td>\n      <td>0.0</td>\n      <td>unknown</td>\n      <td>no</td>\n    </tr>\n    <tr>\n      <th>8746</th>\n      <td>0.200000</td>\n      <td>services</td>\n      <td>married</td>\n      <td>secondary</td>\n      <td>no</td>\n      <td>0.086157</td>\n      <td>yes</td>\n      <td>no</td>\n      <td>unknown</td>\n      <td>0.096774</td>\n      <td>jun</td>\n      <td>0.025417</td>\n      <td>0.063492</td>\n      <td>0.0</td>\n      <td>0.0</td>\n      <td>unknown</td>\n      <td>no</td>\n    </tr>\n  </tbody>\n</table>\n</div>"
     },
     "metadata": {},
     "output_type": "execute_result",
     "execution_count": 20
    }
   ],
   "source": [
    "train.head()\n"
   ],
   "metadata": {
    "collapsed": false,
    "pycharm": {
     "name": "#%%\n",
     "is_executing": false
    }
   }
  },
  {
   "cell_type": "code",
   "execution_count": 20,
   "outputs": [],
   "source": [],
   "metadata": {
    "collapsed": false,
    "pycharm": {
     "name": "#%%\n",
     "is_executing": false
    }
   }
  },
  {
   "cell_type": "code",
   "execution_count": null,
   "outputs": [],
   "source": [
    "\n"
   ],
   "metadata": {
    "collapsed": false,
    "pycharm": {
     "name": "#%%\n"
    }
   }
  }
 ],
 "metadata": {
  "kernelspec": {
   "display_name": "Python 3",
   "language": "python",
   "name": "python3"
  },
  "language_info": {
   "codemirror_mode": {
    "name": "ipython",
    "version": 2
   },
   "file_extension": ".py",
   "mimetype": "text/x-python",
   "name": "python",
   "nbconvert_exporter": "python",
   "pygments_lexer": "ipython2",
   "version": "2.7.6"
  },
  "pycharm": {
   "stem_cell": {
    "cell_type": "raw",
    "source": [],
    "metadata": {
     "collapsed": false
    }
   }
  }
 },
 "nbformat": 4,
 "nbformat_minor": 0
}